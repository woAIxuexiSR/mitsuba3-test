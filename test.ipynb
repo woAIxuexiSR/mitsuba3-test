{
 "cells": [
  {
   "cell_type": "code",
   "execution_count": 1,
   "metadata": {},
   "outputs": [],
   "source": [
    "import mitsuba as mi\n",
    "import drjit as dr\n",
    "import numpy as np\n",
    "import matplotlib.pyplot as plt\n",
    "\n",
    "from drjit.cuda import Float, UInt32, Array3f, Loop"
   ]
  },
  {
   "cell_type": "code",
   "execution_count": 2,
   "metadata": {},
   "outputs": [
    {
     "name": "stdout",
     "output_type": "stream",
     "text": [
      "[0.0, 1.0, 2.0, 3.0, 4.0, 5.0, 6.0, 7.0, 8.0, 9.0] [1.0]\n"
     ]
    }
   ],
   "source": [
    "x = dr.arange(Float, 0, 10, 1)\n",
    "y = Float(1.0)\n",
    "print(x, y)"
   ]
  },
  {
   "cell_type": "code",
   "execution_count": 12,
   "metadata": {},
   "outputs": [
    {
     "name": "stdout",
     "output_type": "stream",
     "text": [
      "[None, None, None, None, None, None, None, None, None, None]\n",
      "[False, False, False, False, False, False, False, False, False, False]\n"
     ]
    }
   ],
   "source": [
    "mi.set_variant(\"cuda_ad_rgb\")\n",
    "\n",
    "t = dr.zeros(mi.MediumPtr, 10)\n",
    "print(t)\n",
    "act = dr.neq(t, None)\n",
    "print(act)"
   ]
  },
  {
   "cell_type": "code",
   "execution_count": 3,
   "metadata": {},
   "outputs": [
    {
     "name": "stdout",
     "output_type": "stream",
     "text": [
      "[10] [10]\n"
     ]
    }
   ],
   "source": [
    "t = UInt32(0)\n",
    "y = Float(1.0)\n",
    "z = dr.arange(Float, 0, 10, 1)\n",
    "loop = Loop(\"test\", lambda: (t, y, z))\n",
    "\n",
    "while loop(t < 10):\n",
    "    t += 1\n",
    "    y += 1\n",
    "\n",
    "print(dr.shape(t), dr.shape(y))"
   ]
  },
  {
   "cell_type": "code",
   "execution_count": 4,
   "metadata": {},
   "outputs": [
    {
     "data": {
      "text/plain": [
       "[0.0, 2.0, 4.0, 3.0, 12.0, 5.0, 12.0, 21.0, 16.0, 9.0]"
      ]
     },
     "execution_count": 4,
     "metadata": {},
     "output_type": "execute_result"
    }
   ],
   "source": [
    "a = dr.arange(Float, 0, 10, 1)\n",
    "b = Array3f([1, 2, 3]) * a\n",
    "b\n",
    "c = UInt32([0, 1, 1, 0, 2, 0, 1, 2, 1, 0])\n",
    "\n",
    "u = b[0]\n",
    "u[dr.eq(c, 1)] = b[1]\n",
    "u[dr.eq(c, 2)] = b[2]\n",
    "u\n"
   ]
  }
 ],
 "metadata": {
  "kernelspec": {
   "display_name": "mitsuba",
   "language": "python",
   "name": "python3"
  },
  "language_info": {
   "codemirror_mode": {
    "name": "ipython",
    "version": 3
   },
   "file_extension": ".py",
   "mimetype": "text/x-python",
   "name": "python",
   "nbconvert_exporter": "python",
   "pygments_lexer": "ipython3",
   "version": "3.9.12"
  },
  "orig_nbformat": 4
 },
 "nbformat": 4,
 "nbformat_minor": 2
}
